{
 "cells": [
  {
   "cell_type": "markdown",
   "id": "c2e1fc4d",
   "metadata": {},
   "source": [
    "# 2. Exploratory Data Analysis\n",
    "\n",
    "This notebook performs exploratory data analysis on the processed symptom-disease dataset.\n",
    "\n",
    "## Objectives\n",
    "1. Analyze dataset statistics\n",
    "2. Visualize class distribution\n",
    "3. Analyze symptom frequency\n",
    "4. Create correlation heatmaps\n",
    "5. Save visualization reports"
   ]
  },
  {
   "cell_type": "code",
   "execution_count": null,
   "id": "8d61a276",
   "metadata": {},
   "outputs": [],
   "source": [
    "import pandas as pd\n",
    "import numpy as np\n",
    "import matplotlib.pyplot as plt\n",
    "import seaborn as sns\n",
    "import json\n",
    "from pathlib import Path\n",
    "\n",
    "# Set style for visualizations\n",
    "plt.style.use('seaborn')\n",
    "sns.set_palette('husl')\n",
    "\n",
    "# Create reports directory if it doesn't exist\n",
    "Path('../reports/eda').mkdir(parents=True, exist_ok=True)"
   ]
  },
  {
   "cell_type": "markdown",
   "id": "d421553a",
   "metadata": {},
   "source": [
    "## 1. Load Processed Data"
   ]
  },
  {
   "cell_type": "code",
   "execution_count": null,
   "id": "9fb4a2c1",
   "metadata": {},
   "outputs": [],
   "source": [
    "# Load processed dataset\n",
    "df = pd.read_csv('../data/processed/processed_data.csv')\n",
    "\n",
    "# Load disease mapping\n",
    "with open('../data/processed/disease_mapping.json', 'r') as f:\n",
    "    disease_mapping = json.load(f)\n",
    "\n",
    "# Reverse mapping for readability\n",
    "id_to_disease = {v: k for k, v in disease_mapping.items()}\n",
    "\n",
    "print(f\"Dataset shape: {df.shape}\")"
   ]
  },
  {
   "cell_type": "markdown",
   "id": "cd6c9a0c",
   "metadata": {},
   "source": [
    "## 2. Dataset Statistics"
   ]
  },
  {
   "cell_type": "code",
   "execution_count": null,
   "id": "66b9fd35",
   "metadata": {},
   "outputs": [],
   "source": [
    "def analyze_dataset_statistics(df):\n",
    "    \"\"\"Calculate and display basic dataset statistics.\"\"\"\n",
    "    stats = {\n",
    "        'Total samples': len(df),\n",
    "        'Number of features': len(df.columns) - 1,\n",
    "        'Number of diseases': len(df['disease'].unique()),\n",
    "        'Average symptoms per case': df.iloc[:, 1:].sum(axis=1).mean(),\n",
    "        'Memory usage (MB)': df.memory_usage(deep=True).sum() / 1024**2\n",
    "    }\n",
    "    \n",
    "    for k, v in stats.items():\n",
    "        print(f\"{k}: {v:.2f}\")\n",
    "    \n",
    "    return stats\n",
    "\n",
    "dataset_stats = analyze_dataset_statistics(df)"
   ]
  },
  {
   "cell_type": "markdown",
   "id": "efb0aa7f",
   "metadata": {},
   "source": [
    "## 3. Class Distribution Analysis"
   ]
  },
  {
   "cell_type": "code",
   "execution_count": null,
   "id": "ea64c5c3",
   "metadata": {},
   "outputs": [],
   "source": [
    "def plot_class_distribution(df, id_to_disease, top_n=20):\n",
    "    \"\"\"Plot distribution of diseases.\"\"\"\n",
    "    plt.figure(figsize=(15, 8))\n",
    "    \n",
    "    # Get disease counts and map IDs to names\n",
    "    disease_counts = df['disease'].value_counts()\n",
    "    disease_names = [id_to_disease[i] for i in disease_counts.index[:top_n]]\n",
    "    \n",
    "    # Create bar plot\n",
    "    sns.barplot(x=disease_counts[:top_n], y=disease_names)\n",
    "    \n",
    "    plt.title(f'Top {top_n} Most Common Diseases')\n",
    "    plt.xlabel('Number of Cases')\n",
    "    plt.ylabel('Disease')\n",
    "    \n",
    "    # Save plot\n",
    "    plt.tight_layout()\n",
    "    plt.savefig('../reports/eda/class_distribution.png')\n",
    "    plt.show()\n",
    "\n",
    "plot_class_distribution(df, id_to_disease)"
   ]
  },
  {
   "cell_type": "markdown",
   "id": "3409082d",
   "metadata": {},
   "source": [
    "## 4. Symptom Frequency Analysis"
   ]
  },
  {
   "cell_type": "code",
   "execution_count": null,
   "id": "d9552804",
   "metadata": {},
   "outputs": [],
   "source": [
    "def analyze_symptom_frequency(df):\n",
    "    \"\"\"Analyze and plot symptom frequencies.\"\"\"\n",
    "    # Calculate symptom frequencies\n",
    "    symptom_cols = df.columns[1:]\n",
    "    symptom_freq = df[symptom_cols].sum().sort_values(ascending=False)\n",
    "    \n",
    "    plt.figure(figsize=(15, 8))\n",
    "    \n",
    "    # Plot top 20 most common symptoms\n",
    "    sns.barplot(x=symptom_freq[:20], y=symptom_freq.index[:20])\n",
    "    \n",
    "    plt.title('Top 20 Most Common Symptoms')\n",
    "    plt.xlabel('Frequency')\n",
    "    plt.ylabel('Symptom')\n",
    "    \n",
    "    plt.tight_layout()\n",
    "    plt.savefig('../reports/eda/symptom_frequency.png')\n",
    "    plt.show()\n",
    "    \n",
    "    return symptom_freq\n",
    "\n",
    "symptom_frequencies = analyze_symptom_frequency(df)"
   ]
  },
  {
   "cell_type": "markdown",
   "id": "03768620",
   "metadata": {},
   "source": [
    "## 5. Correlation Analysis"
   ]
  },
  {
   "cell_type": "code",
   "execution_count": null,
   "id": "049ecbfe",
   "metadata": {},
   "outputs": [],
   "source": [
    "def plot_correlation_heatmap(df, n_symptoms=30):\n",
    "    \"\"\"Create and plot correlation heatmap for top symptoms.\"\"\"\n",
    "    # Get top N most frequent symptoms\n",
    "    top_symptoms = symptom_frequencies.head(n_symptoms).index\n",
    "    \n",
    "    # Calculate correlation matrix\n",
    "    corr_matrix = df[top_symptoms].corr()\n",
    "    \n",
    "    plt.figure(figsize=(15, 12))\n",
    "    \n",
    "    # Create heatmap\n",
    "    sns.heatmap(\n",
    "        corr_matrix,\n",
    "        cmap='RdBu_r',\n",
    "        center=0,\n",
    "        annot=True,\n",
    "        fmt='.2f',\n",
    "        square=True,\n",
    "        cbar_kws={'label': 'Correlation'}\n",
    "    )\n",
    "    \n",
    "    plt.title('Symptom Correlation Heatmap')\n",
    "    plt.tight_layout()\n",
    "    plt.savefig('../reports/eda/correlation_heatmap.png')\n",
    "    plt.show()\n",
    "\n",
    "plot_correlation_heatmap(df)"
   ]
  },
  {
   "cell_type": "markdown",
   "id": "f3a20d81",
   "metadata": {},
   "source": [
    "## 6. Disease-Symptom Association Analysis"
   ]
  },
  {
   "cell_type": "code",
   "execution_count": null,
   "id": "ad90978e",
   "metadata": {},
   "outputs": [],
   "source": [
    "def analyze_disease_symptom_associations(df, id_to_disease, top_n=10):\n",
    "    \"\"\"Analyze which symptoms are most associated with each disease.\"\"\"\n",
    "    associations = {}\n",
    "    \n",
    "    for disease_id in df['disease'].unique():\n",
    "        # Get cases for this disease\n",
    "        disease_cases = df[df['disease'] == disease_id]\n",
    "        \n",
    "        # Calculate symptom frequencies for this disease\n",
    "        symptom_freq = disease_cases.iloc[:, 1:].sum()\n",
    "        \n",
    "        # Store top N symptoms\n",
    "        top_symptoms = symptom_freq.nlargest(top_n)\n",
    "        associations[id_to_disease[disease_id]] = dict(top_symptoms)\n",
    "    \n",
    "    # Save associations to file\n",
    "    with open('../reports/eda/disease_symptom_associations.json', 'w') as f:\n",
    "        json.dump(associations, f, indent=2)\n",
    "    \n",
    "    return associations\n",
    "\n",
    "disease_symptom_assoc = analyze_disease_symptom_associations(df, id_to_disease)\n",
    "\n",
    "# Display example associations for one disease\n",
    "example_disease = list(disease_symptom_assoc.keys())[0]\n",
    "print(f\"\\nTop symptoms for {example_disease}:\")\n",
    "for symptom, freq in disease_symptom_assoc[example_disease].items():\n",
    "    print(f\"{symptom}: {freq}\")"
   ]
  },
  {
   "cell_type": "markdown",
   "id": "24810c32",
   "metadata": {},
   "source": [
    "## 7. Save EDA Report"
   ]
  },
  {
   "cell_type": "code",
   "execution_count": null,
   "id": "840cd052",
   "metadata": {},
   "outputs": [],
   "source": [
    "def generate_eda_report(stats, disease_mapping, symptom_freq):\n",
    "    \"\"\"Generate a markdown report summarizing EDA findings.\"\"\"\n",
    "    report = f\"\"\"\\\n",
    "# Exploratory Data Analysis Report\n",
    "\n",
    "## Dataset Overview\n",
    "- Total samples: {stats['Total samples']:.0f}\n",
    "- Number of features: {stats['Number of features']:.0f}\n",
    "- Number of unique diseases: {stats['Number of diseases']:.0f}\n",
    "- Average symptoms per case: {stats['Average symptoms per case']:.2f}\n",
    "\n",
    "## Disease Distribution\n",
    "- Total unique diseases: {len(disease_mapping)}\n",
    "- See visualization: `class_distribution.png`\n",
    "\n",
    "## Symptom Analysis\n",
    "- Total unique symptoms: {len(symptom_freq)}\n",
    "- Most common symptoms:\n",
    "  {chr(10).join(['  - ' + s + f': {v:.0f} cases' for s, v in symptom_freq.head().items()])}\n",
    "\n",
    "## Visualizations\n",
    "1. `class_distribution.png`: Distribution of diseases\n",
    "2. `symptom_frequency.png`: Frequency of symptoms\n",
    "3. `correlation_heatmap.png`: Symptom correlations\n",
    "\n",
    "## Disease-Symptom Associations\n",
    "Detailed associations can be found in `disease_symptom_associations.json`\n",
    "\"\"\"\n",
    "    \n",
    "    with open('../reports/eda/eda_report.md', 'w') as f:\n",
    "        f.write(report)\n",
    "    \n",
    "    print(\"EDA report generated successfully!\")\n",
    "\n",
    "generate_eda_report(dataset_stats, disease_mapping, symptom_frequencies)"
   ]
  }
 ],
 "metadata": {
  "language_info": {
   "name": "python"
  }
 },
 "nbformat": 4,
 "nbformat_minor": 5
}
